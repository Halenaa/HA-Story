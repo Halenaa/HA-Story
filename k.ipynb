{
 "cells": [
  {
   "cell_type": "code",
   "execution_count": 1,
   "id": "a05aa076",
   "metadata": {},
   "outputs": [],
   "source": [
    "import json"
   ]
  },
  {
   "cell_type": "code",
   "execution_count": 2,
   "id": "5f886828",
   "metadata": {},
   "outputs": [],
   "source": [
    "with open('data/output/小红帽_科幻_linear_T0.7_s42/plot_list.json', 'r') as f:\n",
    "    plot_list = json.load(f)"
   ]
  },
  {
   "cell_type": "code",
   "execution_count": 3,
   "id": "cafd13f4",
   "metadata": {},
   "outputs": [],
   "source": [
    "with open('data/output/小红帽_科幻_linear_T0.7_s42/characters.json', 'r') as f:\n",
    "    character_json = json.load(f)"
   ]
  },
  {
   "cell_type": "code",
   "execution_count": 4,
   "id": "ee2a982a",
   "metadata": {},
   "outputs": [],
   "source": [
    "with open(\"data/output/小红帽_科幻_linear_T0.7_s42/marks.json\", 'r') as f:\n",
    "    marks = json.load(f) "
   ]
  },
  {
   "cell_type": "code",
   "execution_count": 5,
   "id": "aa489034",
   "metadata": {},
   "outputs": [],
   "source": [
    "from src.generation.dialogue_inserter import generate_dialogue_for_insertion\n",
    "from src.generation.dialogue_inserter import analyze_dialogue_insertions"
   ]
  },
  {
   "cell_type": "code",
   "execution_count": 8,
   "id": "3e0e5f4e",
   "metadata": {},
   "outputs": [
    {
     "name": "stdout",
     "output_type": "stream",
     "text": [
      "0\n",
      "正在生成对话: 昏暗的地下通道中,微弱的应急灯光闪烁着橙色的光芒.小红穿着那件从祖母那里继承来的红色防护服,厚重的材质在她瘦小的身躯上显得格外醒目.防护服的表面布满了岁月的痕迹,但依然完整无损,胸前的辐射检测器发出轻微的滴答声.她小心翼翼地走过锈迹斑斑的金属地板,手中紧握着一个密封的药剂容器,里面装着珍贵的净化药剂.通道深处传来外婆虚弱的咳嗽声,那声音在狭窄的空间里回荡着,提醒着小红这次任务的紧迫性.墙壁上贴着褪色的安全标识,见证着这个避难所曾经的辉煌,而现在只剩下孤独的祖孙二人在这末世中相依为命.小红抚摸着防护服上祖母留下的一个小徽章,仿佛能感受到祖母的保护和鼓励,坚定地向着外婆的居所走去. - 角色: ['小红', '外婆']\n",
      "\n",
      "🔍 开始生成对话，候选角色: ['小红', '外婆']\n",
      "  📤 发送第一个prompt给小红\n",
      "  📥 LLM原始返回: {\"dialogue\": \"外婆，我来了！我带着净化药剂回来了，您再坚持一下！\", \"action\": \"加快脚步向外婆的居所走去，同时小心地护着手中的药剂容器，防护服上的辐射检测器滴答声在寂静的通道中显得格外清晰\"}{\"dialogue\": \"外婆，您听到我了吗？我快到了！\", \"action\": \"继续向前，心中默念着外婆的安危，脚步更加坚定\"}...\n",
      "yuanshi content: {\"dialogue\": \"外婆，我来了！我带着净化药剂回来了，您再坚持一下！\", \"action\": \"加快脚步向外婆的居所走去，同时小心地护着手中的药剂容器，防护服上的辐射检测器滴答声在寂静的通道中显得格外清晰\"}{\"dialogue\": \"外婆，您听到我了吗？我快到了！\", \"action\": \"继续向前，心中默念着外婆的安危，脚步更加坚定\"}...\n",
      "  🔍 解析后的类型: <class 'list'>, 内容: [{'dialogue': '外婆,我来了！我带着净化药剂回来了,您再坚持一下！', 'action': '加快脚步向外婆的居所走去,同时小心地护着手中的药剂容器,防护服上的辐射检测器滴答声在寂静的通道中显得格外清晰'}, {'dialogue': '外婆,您听到我了吗？我快到了！', 'action': '继续向前,心中默念着外婆的安危,脚步更加坚定'}]\n",
      "  ⚠️ parsed不是字典，而是<class 'list'>\n",
      "\n",
      "  🔄 第1轮对话\n",
      "    📥 下一个发言人返回: {\"next_speaker\": \"外婆\"}{\"next_speaker\": \"外婆\"}...\n",
      "yuanshi content: {\"next_speaker\": \"外婆\"}{\"next_speaker\": \"外婆\"}...\n",
      "    ⚠️ next_data不是字典: <class 'list'>\n",
      "  ✅ 生成了2条对话\n",
      "1\n",
      "正在生成对话: 小红穿着祖母留下的红色防护服,小心翼翼地穿行在满目疮痍的废土之中.破碎的高楼残骸如同巨兽的骨架矗立在灰蒙蒙的天空下,地面上散落着锈蚀的金属碎片和变异的植物根茎.空气中弥漫着淡淡的辐射雾霾,让能见度变得极低.她紧握着装有净化药剂的背包,每一步都格外谨慎.突然,前方传来诡异的窸窣声,几株巨大的变异食人花从废墟的阴影中缓缓探出头来,它们的花瓣呈现出不自然的血红色,边缘长满了锋利的尖刺,散发着令人作呕的腐臭味.小红屏住呼吸,知道这些变异植物对人类的血肉有着强烈的渴望,她必须找到安全的路径绕过这些致命的威胁,继续前往外婆所在的避难所. - 角色: ['小红']\n",
      "\n",
      "🔍 开始生成对话，候选角色: ['小红']\n",
      "  📤 发送第一个prompt给小红\n",
      "  📥 LLM原始返回: ```json\n",
      "{\"dialogue\": \"该死...又是变异食人花，而且还是这么大的...我必须保持冷静，祖母说过它们对快速移动很敏感，我得想办法绕过去。\", \"action\": \"小红紧贴着身后的废墟墙壁，尽量压低身体，一只手紧握背包带，另一只手摸向腰间可能的工具，眼睛死死盯着那几株血红色的变异食人花，寻找着能够安全通过的路径。\"}\n",
      "```...\n",
      "yuanshi content: ```json\n",
      "{\"dialogue\": \"该死...又是变异食人花，而且还是这么大的...我必须保持冷静，祖母说过它们对快速移动很敏感，我得想办法绕过去。\", \"action\": \"小红紧贴着身后的废墟墙壁，尽量压低身体，一只手紧握背包带，另一只手摸向腰间可能的工具，眼睛死死盯着那几株血红色的变异食人花，寻找着能够安全通过的路径。\"}\n",
      "```...\n",
      "  🔍 解析后的类型: <class 'dict'>, 内容: {'dialogue': '该死...又是变异食人花,而且还是这么大的...我必须保持冷静,祖母说过它们对快速移动很敏感,我得想办法绕过去.', 'action': '小红紧贴着身后的废墟墙壁,尽量压低身体,一只手紧握背包带,另一只手摸向腰间可能的工具,眼睛死死盯着那几株血红色的变异食人花,寻找着能够安全通过的路径.'}\n",
      "\n",
      "  🔄 第1轮对话\n",
      "    📥 下一个发言人返回: {\"next_speaker\": \"小红\"}{\"next_speaker\": \"小红\"}...\n",
      "yuanshi content: {\"next_speaker\": \"小红\"}{\"next_speaker\": \"小红\"}...\n",
      "    ⚠️ next_data不是字典: <class 'list'>\n",
      "  ✅ 生成了1条对话\n",
      "2\n",
      "正在生成对话: 夜幕降临,小红穿着祖母留下的红色防护服,小心翼翼地穿行在满是废弃机械残骸的工业区中.锈蚀的钢铁构架在月光下投下诡异的阴影,空气中弥漫着金属腐蚀的味道和淡淡的辐射粒子.突然,一个巨大的机械身影从废料堆后缓缓站起,红色的扫描光束在黑暗中来回搜索.这是一台失控的军用机器人,它的装甲已经破损,但依然散发着致命的威胁.机器人发出低沉的机械音,开始向小红的方向移动.就在危急时刻,一道蓝色的电磁脉冲从远处射来,击中了机器人的感应器.一个身着黑色战术装备的神秘身影从高处跃下,手持闪烁着电弧的武器,这就是专门猎杀失控机械的电子猎人. - 角色: ['小红', '失控军用机器人', '电子猎人']\n",
      "\n",
      "🔍 开始生成对话，候选角色: ['小红', '失控军用机器人', '电子猎人']\n",
      "  📤 发送第一个prompt给小红\n",
      "  📥 LLM原始返回: {\"dialogue\": \"谢谢你救了我！这台机器人突然出现，我差点就被它发现了。\", \"action\": \"紧紧抱着祖母的红色防护服，从废料堆后小心地探出头来，眼中带着惊魂未定的恐惧和对电子猎人的感激\"}{\"dialogue\": \"我能帮你吗？这地方太危险了，我们必须尽快离开。\", \"action\": \"向电子猎人走去，试图靠近并寻求保护，同时警惕周围的动静\"}...\n",
      "yuanshi content: {\"dialogue\": \"谢谢你救了我！这台机器人突然出现，我差点就被它发现了。\", \"action\": \"紧紧抱着祖母的红色防护服，从废料堆后小心地探出头来，眼中带着惊魂未定的恐惧和对电子猎人的感激\"}{\"dialogue\": \"我能帮你吗？这地方太危险了，我们必须尽快离开。\", \"action\": \"向电子猎人走去，试图靠近并寻求保护，同时警惕周围的动静\"}...\n",
      "  🔍 解析后的类型: <class 'list'>, 内容: [{'dialogue': '谢谢你救了我！这台机器人突然出现,我差点就被它发现了.', 'action': '紧紧抱着祖母的红色防护服,从废料堆后小心地探出头来,眼中带着惊魂未定的恐惧和对电子猎人的感激'}, {'dialogue': '我能帮你吗？这地方太危险了,我们必须尽快离开.', 'action': '向电子猎人走去,试图靠近并寻求保护,同时警惕周围的动静'}]\n",
      "  ⚠️ parsed不是字典，而是<class 'list'>\n",
      "\n",
      "  🔄 第1轮对话\n",
      "    📥 下一个发言人返回: {\"next_speaker\": \"电子猎人\"}{\"next_speaker\": \"电子猎人\"}...\n",
      "yuanshi content: {\"next_speaker\": \"电子猎人\"}{\"next_speaker\": \"电子猎人\"}...\n",
      "    ⚠️ next_data不是字典: <class 'list'>\n",
      "  ✅ 生成了2条对话\n",
      "3\n",
      "正在生成对话: 小红终于抵达了外婆所在的地下避难所,厚重的金属门在她面前缓缓开启,发出低沉的机械声响.通道内昏暗的应急灯光闪烁不定,墙壁上布满了岁月留下的锈迹和裂痕.当她踏入避难所的那一刻,头顶的红色警报灯突然亮起,刺耳的警报声在狭窄的通道中回荡.避难所的自动守卫系统被激活了,机械化的声音在广播中响起：检测到未授权入侵者,启动防护程序.更令人不安的是,在她身后的废土中,那个一直追踪她的失控军用机器人也悄然接近了避难所入口,它的红色扫描光束在黑暗中闪烁,似乎在寻找进入的机会.小红意识到自己陷入了一个危险的陷阱：前方是避难所严密的防护系统,后方是致命的机械猎手,而装着救命药剂的背包就在她的肩膀上,外婆就在这避难所的深处等待着她的救援. - 角色: ['小红', '避难所守卫系统']\n",
      "\n",
      "🔍 开始生成对话，候选角色: ['小红', '避难所守卫系统']\n",
      "  📤 发送第一个prompt给小红\n",
      "  📥 LLM原始返回: {\"dialogue\": \"避难所守卫系统，请听我说！我是小红，我不是入侵者！我的外婆在这里，她需要救命药剂，我必须进去救她！\", \"action\": \"紧紧抱住装着药剂的背包，同时警惕地回头看了一眼身后追来的机器人，然后对着避难所的广播系统大声喊话\"}{\"dialogue\": \"请相信我，我没有恶意！我只想救我的外婆！\", \"action\": \"用力拍打着金属门，试图引起守卫系统的注意，同时心中...\n",
      "yuanshi content: {\"dialogue\": \"避难所守卫系统，请听我说！我是小红，我不是入侵者！我的外婆在这里，她需要救命药剂，我必须进去救她！\", \"action\": \"紧紧抱住装着药剂的背包，同时警惕地回头看了一眼身后追来的机器人，然后对着避难所的广播系统大声喊话\"}{\"dialogue\": \"请相信我，我没有恶意！我只想救我的外婆！\", \"action\": \"用力拍打着金属门，试图引起守卫系统的注意，同时心中默念着希望外婆能听到她的声音\"}...\n",
      "  🔍 解析后的类型: <class 'list'>, 内容: [{'dialogue': '避难所守卫系统,请听我说！我是小红,我不是入侵者！我的外婆在这里,她需要救命药剂,我必须进去救她！', 'action': '紧紧抱住装着药剂的背包,同时警惕地回头看了一眼身后追来的机器人,然后对着避难所的广播系统大声喊话'}, {'dialogue': '请相信我,我没有恶意！我只想救我的外婆！', 'action': '用力拍打着金属门,试图引起守卫系统的注意,同时心中默念着希望外婆能听到她的声音'}]\n",
      "  ⚠️ parsed不是字典，而是<class 'list'>\n",
      "\n",
      "  🔄 第1轮对话\n",
      "    📥 下一个发言人返回: {\"next_speaker\": \"避难所守卫系统\"}{\"next_speaker\": \"避难所守卫系统\"}...\n",
      "yuanshi content: {\"next_speaker\": \"避难所守卫系统\"}{\"next_speaker\": \"避难所守卫系统\"}...\n",
      "    ⚠️ next_data不是字典: <class 'list'>\n",
      "  ✅ 生成了2条对话\n",
      "4\n",
      "正在生成对话: 夜幕降临,小红穿着祖母留下的红色防护服,小心翼翼地穿行在废弃工厂的钢铁残骸间.突然,一个巨大的金属身影从阴影中现身——失控军用机器人正用红外扫描锁定她的位置.机器人的机械臂伸出,准备捕获这个珍贵的人类样本.就在千钧一发之际,一道蓝色的电磁脉冲从远处射来,击中了机器人的核心处理器.一个身着黑色战术装备、手持电磁武器的神秘身影从废墟顶部跃下——电子猎人及时赶到.工厂区内火花四溅,金属碰撞声回荡在夜空中,一场人类与失控机械的生死较量正式拉开帷幕. - 角色: ['小红', '失控军用机器人', '电子猎人']\n",
      "\n",
      "🔍 开始生成对话，候选角色: ['小红', '失控军用机器人', '电子猎人']\n",
      "  📤 发送第一个prompt给小红\n",
      "  📥 LLM原始返回: {\"dialogue\": \"谢天谢地！我还以为这次真的要被抓走了...\", \"action\": \"小红紧紧抱着祖母的红色防护服，从废墟后探出头来，惊魂未定地看向那个及时出现的电子猎人\"}{\"dialogue\": \"你来得正是时候！我们必须赶快想办法对付这个机器人！\", \"action\": \"小红迅速站起身，指向失控军用机器人，眼中闪烁着希望与紧张的光芒。\"}...\n",
      "yuanshi content: {\"dialogue\": \"谢天谢地！我还以为这次真的要被抓走了...\", \"action\": \"小红紧紧抱着祖母的红色防护服，从废墟后探出头来，惊魂未定地看向那个及时出现的电子猎人\"}{\"dialogue\": \"你来得正是时候！我们必须赶快想办法对付这个机器人！\", \"action\": \"小红迅速站起身，指向失控军用机器人，眼中闪烁着希望与紧张的光芒。\"}...\n",
      "  🔍 解析后的类型: <class 'list'>, 内容: [{'dialogue': '谢天谢地！我还以为这次真的要被抓走了...', 'action': '小红紧紧抱着祖母的红色防护服,从废墟后探出头来,惊魂未定地看向那个及时出现的电子猎人'}, {'dialogue': '你来得正是时候！我们必须赶快想办法对付这个机器人！', 'action': '小红迅速站起身,指向失控军用机器人,眼中闪烁着希望与紧张的光芒.'}]\n",
      "  ⚠️ parsed不是字典，而是<class 'list'>\n",
      "\n",
      "  🔄 第1轮对话\n",
      "    📥 下一个发言人返回: {\"next_speaker\": \"电子猎人\"}{\"next_speaker\": \"电子猎人\"}...\n",
      "yuanshi content: {\"next_speaker\": \"电子猎人\"}{\"next_speaker\": \"电子猎人\"}...\n",
      "    ⚠️ next_data不是字典: <class 'list'>\n",
      "  ✅ 生成了2条对话\n",
      "✅ 生成对话块数量: 5, plot数量: 5\n"
     ]
    }
   ],
   "source": [
    "final_result = []\n",
    "\n",
    "# ✅ 确保返回的结果数量与plot_list匹配\n",
    "plot_index = 0\n",
    "for ind,item in enumerate(marks):\n",
    "    print(ind) \n",
    "    dialogue_block = {\n",
    "        \"sentence\": item.get(\"sentence\", \"\"),\n",
    "        \"need_to_action\": item.get(\"need_to_action\", 0),\n",
    "        \"actor_list\": item.get(\"actor_list\", []),\n",
    "        \"dialogue\": []\n",
    "    }\n",
    "    \n",
    "    if item.get(\"need_to_action\") == 1 and item.get(\"actor_list\"):\n",
    "        try:\n",
    "            print(f\"正在生成对话: {item['sentence']} - 角色: {item['actor_list']}\")\n",
    "\n",
    "            dialogue_memory = generate_dialogue_for_insertion(\n",
    "                sentence_context=item[\"sentence\"],\n",
    "                candidate_characters=item[\"actor_list\"],\n",
    "                full_plot=plot_list,\n",
    "                character_personality=character_json\n",
    "            )\n",
    "            dialogue_block[\"dialogue\"] = dialogue_memory\n",
    "        except Exception as e:\n",
    "            print(f\"⚠️ 生成对话失败: {e}\")\n",
    "            dialogue_block[\"dialogue\"] = []\n",
    "            \n",
    "    final_result.append(dialogue_block)\n",
    "    plot_index += 1\n",
    "\n",
    "# ✅ 如果marks数量少于plot_list，补充空对话块\n",
    "while len(final_result) < len(plot_list):\n",
    "    print\n",
    "    final_result.append({\n",
    "        \"sentence\": plot_list[len(final_result)] if len(final_result) < len(plot_list) else \"\",\n",
    "        \"need_to_action\": 0,\n",
    "        \"actor_list\": [],\n",
    "        \"dialogue\": []\n",
    "    })\n",
    "\n",
    "print(f\"✅ 生成对话块数量: {len(final_result)}, plot数量: {len(plot_list)}\")"
   ]
  },
  {
   "cell_type": "code",
   "execution_count": 9,
   "id": "baf39b26",
   "metadata": {},
   "outputs": [
    {
     "data": {
      "text/plain": [
       "[{'sentence': '昏暗的地下通道中,微弱的应急灯光闪烁着橙色的光芒.小红穿着那件从祖母那里继承来的红色防护服,厚重的材质在她瘦小的身躯上显得格外醒目.防护服的表面布满了岁月的痕迹,但依然完整无损,胸前的辐射检测器发出轻微的滴答声.她小心翼翼地走过锈迹斑斑的金属地板,手中紧握着一个密封的药剂容器,里面装着珍贵的净化药剂.通道深处传来外婆虚弱的咳嗽声,那声音在狭窄的空间里回荡着,提醒着小红这次任务的紧迫性.墙壁上贴着褪色的安全标识,见证着这个避难所曾经的辉煌,而现在只剩下孤独的祖孙二人在这末世中相依为命.小红抚摸着防护服上祖母留下的一个小徽章,仿佛能感受到祖母的保护和鼓励,坚定地向着外婆的居所走去.',\n",
       "  'need_to_action': 1,\n",
       "  'actor_list': ['小红', '外婆'],\n",
       "  'dialogue': [{'speaker': '小红',\n",
       "    'dialogue': '外婆,我来了！我带着净化药剂回来了,您再坚持一下！',\n",
       "    'action': ''},\n",
       "   {'speaker': '小红', 'dialogue': '外婆,您听到我了吗？我快到了！', 'action': ''}]},\n",
       " {'sentence': '小红穿着祖母留下的红色防护服,小心翼翼地穿行在满目疮痍的废土之中.破碎的高楼残骸如同巨兽的骨架矗立在灰蒙蒙的天空下,地面上散落着锈蚀的金属碎片和变异的植物根茎.空气中弥漫着淡淡的辐射雾霾,让能见度变得极低.她紧握着装有净化药剂的背包,每一步都格外谨慎.突然,前方传来诡异的窸窣声,几株巨大的变异食人花从废墟的阴影中缓缓探出头来,它们的花瓣呈现出不自然的血红色,边缘长满了锋利的尖刺,散发着令人作呕的腐臭味.小红屏住呼吸,知道这些变异植物对人类的血肉有着强烈的渴望,她必须找到安全的路径绕过这些致命的威胁,继续前往外婆所在的避难所.',\n",
       "  'need_to_action': 1,\n",
       "  'actor_list': ['小红'],\n",
       "  'dialogue': [{'speaker': '小红',\n",
       "    'dialogue': '该死...又是变异食人花,而且还是这么大的...我必须保持冷静,祖母说过它们对快速移动很敏感,我得想办法绕过去.',\n",
       "    'action': ''}]},\n",
       " {'sentence': '夜幕降临,小红穿着祖母留下的红色防护服,小心翼翼地穿行在满是废弃机械残骸的工业区中.锈蚀的钢铁构架在月光下投下诡异的阴影,空气中弥漫着金属腐蚀的味道和淡淡的辐射粒子.突然,一个巨大的机械身影从废料堆后缓缓站起,红色的扫描光束在黑暗中来回搜索.这是一台失控的军用机器人,它的装甲已经破损,但依然散发着致命的威胁.机器人发出低沉的机械音,开始向小红的方向移动.就在危急时刻,一道蓝色的电磁脉冲从远处射来,击中了机器人的感应器.一个身着黑色战术装备的神秘身影从高处跃下,手持闪烁着电弧的武器,这就是专门猎杀失控机械的电子猎人.',\n",
       "  'need_to_action': 1,\n",
       "  'actor_list': ['小红', '失控军用机器人', '电子猎人'],\n",
       "  'dialogue': [{'speaker': '小红',\n",
       "    'dialogue': '谢谢你救了我！这台机器人突然出现,我差点就被它发现了.',\n",
       "    'action': ''},\n",
       "   {'speaker': '小红', 'dialogue': '我能帮你吗？这地方太危险了,我们必须尽快离开.', 'action': ''}]},\n",
       " {'sentence': '小红终于抵达了外婆所在的地下避难所,厚重的金属门在她面前缓缓开启,发出低沉的机械声响.通道内昏暗的应急灯光闪烁不定,墙壁上布满了岁月留下的锈迹和裂痕.当她踏入避难所的那一刻,头顶的红色警报灯突然亮起,刺耳的警报声在狭窄的通道中回荡.避难所的自动守卫系统被激活了,机械化的声音在广播中响起：检测到未授权入侵者,启动防护程序.更令人不安的是,在她身后的废土中,那个一直追踪她的失控军用机器人也悄然接近了避难所入口,它的红色扫描光束在黑暗中闪烁,似乎在寻找进入的机会.小红意识到自己陷入了一个危险的陷阱：前方是避难所严密的防护系统,后方是致命的机械猎手,而装着救命药剂的背包就在她的肩膀上,外婆就在这避难所的深处等待着她的救援.',\n",
       "  'need_to_action': 1,\n",
       "  'actor_list': ['小红', '避难所守卫系统'],\n",
       "  'dialogue': [{'speaker': '小红',\n",
       "    'dialogue': '避难所守卫系统,请听我说！我是小红,我不是入侵者！我的外婆在这里,她需要救命药剂,我必须进去救她！',\n",
       "    'action': ''},\n",
       "   {'speaker': '小红', 'dialogue': '请相信我,我没有恶意！我只想救我的外婆！', 'action': ''}]},\n",
       " {'sentence': '夜幕降临,小红穿着祖母留下的红色防护服,小心翼翼地穿行在废弃工厂的钢铁残骸间.突然,一个巨大的金属身影从阴影中现身——失控军用机器人正用红外扫描锁定她的位置.机器人的机械臂伸出,准备捕获这个珍贵的人类样本.就在千钧一发之际,一道蓝色的电磁脉冲从远处射来,击中了机器人的核心处理器.一个身着黑色战术装备、手持电磁武器的神秘身影从废墟顶部跃下——电子猎人及时赶到.工厂区内火花四溅,金属碰撞声回荡在夜空中,一场人类与失控机械的生死较量正式拉开帷幕.',\n",
       "  'need_to_action': 1,\n",
       "  'actor_list': ['小红', '失控军用机器人', '电子猎人'],\n",
       "  'dialogue': [{'speaker': '小红',\n",
       "    'dialogue': '谢天谢地！我还以为这次真的要被抓走了...',\n",
       "    'action': ''},\n",
       "   {'speaker': '小红', 'dialogue': '你来得正是时候！我们必须赶快想办法对付这个机器人！', 'action': ''}]}]"
      ]
     },
     "execution_count": 9,
     "metadata": {},
     "output_type": "execute_result"
    }
   ],
   "source": [
    "final_result "
   ]
  },
  {
   "cell_type": "code",
   "execution_count": 22,
   "id": "e60268a8",
   "metadata": {},
   "outputs": [],
   "source": [
    "item = marks[0]"
   ]
  },
  {
   "cell_type": "code",
   "execution_count": 24,
   "id": "d815b072",
   "metadata": {},
   "outputs": [
    {
     "data": {
      "text/plain": [
       "{'sentence': '昏暗的地下通道中,微弱的应急灯光闪烁着橙色的光芒.小红穿着那件从祖母那里继承来的红色防护服,厚重的材质在她瘦小的身躯上显得格外醒目.防护服的表面布满了岁月的痕迹,但依然完整无损,胸前的辐射检测器发出轻微的滴答声.她小心翼翼地走过锈迹斑斑的金属地板,手中紧握着一个密封的药剂容器,里面装着珍贵的净化药剂.通道深处传来外婆虚弱的咳嗽声,那声音在狭窄的空间里回荡着,提醒着小红这次任务的紧迫性.墙壁上贴着褪色的安全标识,见证着这个避难所曾经的辉煌,而现在只剩下孤独的祖孙二人在这末世中相依为命.小红抚摸着防护服上祖母留下的一个小徽章,仿佛能感受到祖母的保护和鼓励,坚定地向着外婆的居所走去.',\n",
       " 'need_to_action': 1,\n",
       " 'actor_list': ['小红', '外婆']}"
      ]
     },
     "execution_count": 24,
     "metadata": {},
     "output_type": "execute_result"
    }
   ],
   "source": [
    "item "
   ]
  },
  {
   "cell_type": "code",
   "execution_count": 23,
   "id": "374c9d2b",
   "metadata": {},
   "outputs": [
    {
     "name": "stdout",
     "output_type": "stream",
     "text": [
      "1\n"
     ]
    }
   ],
   "source": [
    "if item.get(\"need_to_action\") == 1 and item.get(\"actor_list\"):\n",
    "    print(\"1\")"
   ]
  },
  {
   "cell_type": "code",
   "execution_count": 25,
   "id": "ede2e09e",
   "metadata": {},
   "outputs": [],
   "source": [
    "from src.utils.utils import generate_response, convert_json\n",
    "candidate_characters = item.get(\"actor_list\", [])\n",
    "sentence_context = item[\"sentence\"]"
   ]
  },
  {
   "cell_type": "code",
   "execution_count": 26,
   "id": "909b078d",
   "metadata": {},
   "outputs": [
    {
     "name": "stdout",
     "output_type": "stream",
     "text": [
      "\n",
      "🔍 开始生成对话，候选角色: ['小红', '外婆']\n",
      "  📤 发送第一个prompt给小红\n",
      "{\"dialogue\": \"外婆，我来了！我带着净化药剂回来了，您再坚持一下！\", \"action\": \"加快脚步向外婆的居所走去，同时小心地护着手中的药剂容器，防护服上的辐射检测器滴答声在寂静的通道中显得格外清晰\"}{\"dialogue\": \"外婆，您听到了吗？我在这里！\", \"action\": \"停下脚步，仔细倾听外婆的咳嗽声，心中充满了焦急与担忧\"}\n",
      "  📥 LLM原始返回: {\"dialogue\": \"外婆，我来了！我带着净化药剂回来了，您再坚持一下！\", \"action\": \"加快脚步向外婆的居所走去，同时小心地护着手中的药剂容器，防护服上的辐射检测器滴答声在寂静的通道中显得格外清晰\"}{\"dialogue\": \"外婆，您听到了吗？我在这里！\", \"action\": \"停下脚步，仔细倾听外婆的咳嗽声，心中充满了焦急与担忧\"}...\n",
      "  🔍 解析后的类型: <class 'list'>, 内容: [{'dialogue': '外婆,我来了！我带着净化药剂回来了,您再坚持一下！', 'action': '加快脚步向外婆的居所走去,同时小心地护着手中的药剂容器,防护服上的辐射检测器滴答声在寂静的通道中显得格外清晰'}, {'dialogue': '外婆,您听到了吗？我在这里！', 'action': '停下脚步,仔细倾听外婆的咳嗽声,心中充满了焦急与担忧'}]\n",
      "  ⚠️ parsed不是字典，而是<class 'list'>\n"
     ]
    }
   ],
   "source": [
    "\"\"\"\n",
    "在某一句剧情之后插入对话，loop 判断是否说、谁说、说几轮\n",
    "\"\"\"\n",
    "print(f\"\\n🔍 开始生成对话，候选角色: {candidate_characters}\")\n",
    "\n",
    "character_memory = {char: [] for char in candidate_characters}\n",
    "history = \"\"\n",
    "\n",
    "# 第一个发言人\n",
    "speaker = candidate_characters[0]\n",
    "prompt_first = [{\n",
    "    \"role\": \"system\",\n",
    "    \"content\": f\"\"\"你是 {speaker}，请基于以下剧情做出第一句发言。\n",
    "剧情背景是：{sentence_context}\n",
    "你可以向其他角色说话：{[c for c in candidate_characters if c != speaker]}\n",
    "用以下json格式返回：\n",
    "{{\"dialogue\": \"...\", \"action\": \"...\"}}\"\"\"\n",
    "}]\n",
    "\n",
    "print(f\"  📤 发送第一个prompt给{speaker}\")\n",
    "response = generate_response(prompt_first)\n",
    "print(response)\n",
    "print(f\"  📥 LLM原始返回: {response[:200]}...\")\n",
    "\n",
    "parsed = convert_json(response)\n",
    "print(f\"  🔍 解析后的类型: {type(parsed)}, 内容: {parsed}\")\n",
    "\n",
    "# ✅ 检查parsed的类型\n",
    "if not isinstance(parsed, dict):\n",
    "    print(f\"  ⚠️ parsed不是字典，而是{type(parsed)}\")\n",
    "    for each in parsed:\n",
    "        spoken_line = each.get(\"dialogue\", \"\")\n",
    "        if spoken_line not in [l.split(\":\", 1)[-1].strip() for l in character_memory[speaker]]:\n",
    "            character_memory[speaker].append(f\"{speaker}: {spoken_line}\")\n",
    "\n",
    "        history += f\"{speaker}: {spoken_line}\\n\"\n",
    "    #return []\n",
    "else:\n",
    "# ✅ 使用get方法安全获取\n",
    "    spoken_line = parsed.get(\"dialogue\", \"\")\n",
    "    if not spoken_line:\n",
    "        print(f\"  ⚠️ 没有获取到dialogue字段\")\n",
    "        #return []\n",
    "        \n",
    "    if spoken_line not in [l.split(\":\", 1)[-1].strip() for l in character_memory[speaker]]:\n",
    "        character_memory[speaker].append(f\"{speaker}: {spoken_line}\")\n",
    "\n",
    "    history += f\"{speaker}: {spoken_line}\\n\""
   ]
  },
  {
   "cell_type": "code",
   "execution_count": 27,
   "id": "2f26145f",
   "metadata": {},
   "outputs": [
    {
     "data": {
      "text/plain": [
       "'{\"dialogue\": \"外婆，我来了！我带着净化药剂回来了，您再坚持一下！\", \"action\": \"加快脚步向外婆的居所走去，同时小心地护着手中的药剂容器，防护服上的辐射检测器滴答声在寂静的通道中显得格外清晰\"}{\"dialogue\": \"外婆，您听到了吗？我在这里！\", \"action\": \"停下脚步，仔细倾听外婆的咳嗽声，心中充满了焦急与担忧\"}'"
      ]
     },
     "execution_count": 27,
     "metadata": {},
     "output_type": "execute_result"
    }
   ],
   "source": [
    "response"
   ]
  },
  {
   "cell_type": "code",
   "execution_count": 29,
   "id": "3758691d",
   "metadata": {},
   "outputs": [
    {
     "data": {
      "text/plain": [
       "list"
      ]
     },
     "execution_count": 29,
     "metadata": {},
     "output_type": "execute_result"
    }
   ],
   "source": [
    "type(parsed)"
   ]
  },
  {
   "cell_type": "code",
   "execution_count": 30,
   "id": "a481f140",
   "metadata": {},
   "outputs": [
    {
     "data": {
      "text/plain": [
       "'小红: 外婆,我来了！我带着净化药剂回来了,您再坚持一下！\\n小红: 外婆,您听到了吗？我在这里！\\n'"
      ]
     },
     "execution_count": 30,
     "metadata": {},
     "output_type": "execute_result"
    }
   ],
   "source": [
    "history"
   ]
  },
  {
   "cell_type": "code",
   "execution_count": null,
   "id": "a71f77cb",
   "metadata": {},
   "outputs": [],
   "source": []
  },
  {
   "cell_type": "code",
   "execution_count": null,
   "id": "ee5866cd",
   "metadata": {},
   "outputs": [],
   "source": []
  },
  {
   "cell_type": "code",
   "execution_count": null,
   "id": "d637d90f",
   "metadata": {},
   "outputs": [],
   "source": []
  },
  {
   "cell_type": "code",
   "execution_count": 10,
   "id": "10323ac8",
   "metadata": {},
   "outputs": [],
   "source": [
    "# ===========================================\n",
    "# 在 Jupyter notebook 中测试真实数据\n",
    "# ===========================================\n",
    "\n",
    "import sys\n",
    "import os\n",
    "import json\n",
    "\n",
    "# 添加项目路径\n",
    "sys.path.append('/Users/haha/Story')\n",
    "\n",
    "# 导入需要测试的模块\n",
    "from src.utils.utils import load_json\n",
    "from src.sync.update_plot_from_dialogue import update_plot_from_dialogue"
   ]
  },
  {
   "cell_type": "code",
   "execution_count": 11,
   "id": "7ef30f98",
   "metadata": {},
   "outputs": [
    {
     "name": "stdout",
     "output_type": "stream",
     "text": [
      "=== 加载真实数据文件 ===\n",
      "数据目录: /Users/haha/Story/data/output/小红帽_科幻_linear_T0.7_s42\n",
      "✅ 加载对话数据: 5 个对话块\n",
      "✅ 加载故事数据: 5 章节\n",
      "✅ 加载角色数据: 5 个角色\n"
     ]
    }
   ],
   "source": [
    "\n",
    "\n",
    "# ===========================================\n",
    "# 1. 加载你的真实数据文件\n",
    "# ===========================================\n",
    "\n",
    "# 你的版本名（从错误日志中看到的）\n",
    "version = \"小红帽_科幻_linear_T0.7_s42\" \n",
    "data_folder = f\"/Users/haha/Story/data/output/{version}\"\n",
    "\n",
    "print(f\"=== 加载真实数据文件 ===\")\n",
    "print(f\"数据目录: {data_folder}\")\n",
    "\n",
    "# 加载相关文件\n",
    "try:\n",
    "    # 对话数据\n",
    "    dialogue_file = f\"{data_folder}/dialogue_marks.json\"\n",
    "    if os.path.exists(dialogue_file):\n",
    "        dialogue_data = load_json(dialogue_file)\n",
    "        print(f\"✅ 加载对话数据: {len(dialogue_data)} 个对话块\")\n",
    "    else:\n",
    "        print(f\"❌ 对话文件不存在: {dialogue_file}\")\n",
    "        dialogue_data = []\n",
    "    \n",
    "    # 故事数据\n",
    "    story_file = f\"{data_folder}/story.json\"\n",
    "    if os.path.exists(story_file):\n",
    "        story_data = load_json(story_file)\n",
    "        print(f\"✅ 加载故事数据: {len(story_data)} 章节\")\n",
    "    else:\n",
    "        print(f\"❌ 故事文件不存在: {story_file}\")\n",
    "        story_data = []\n",
    "    \n",
    "    # 角色数据\n",
    "    character_file = f\"{data_folder}/characters.json\"\n",
    "    if os.path.exists(character_file):\n",
    "        character_data = load_json(character_file)\n",
    "        print(f\"✅ 加载角色数据: {len(character_data)} 个角色\")\n",
    "    else:\n",
    "        print(f\"❌ 角色文件不存在: {character_file}\")\n",
    "        character_data = []\n",
    "        \n",
    "except Exception as e:\n",
    "    print(f\"❌ 加载文件失败: {e}\")\n"
   ]
  },
  {
   "cell_type": "code",
   "execution_count": 12,
   "id": "3f4d528e",
   "metadata": {},
   "outputs": [
    {
     "name": "stdout",
     "output_type": "stream",
     "text": [
      "\n",
      "=== 检查数据格式 ===\n",
      "第一个对话块的键: dict_keys(['sentence', 'need_to_action', 'actor_list', 'dialogue'])\n",
      "第一个对话项的键: dict_keys(['speaker', 'dialogue', 'action'])\n",
      "✅ 数据使用 'dialogue' 字段\n",
      "样例对话: {'speaker': '祖母', 'dialogue': '小红,你看这里的密封条一定要贴紧,不能有一丝缝隙.地面上的辐射可不比这避难所里,一点疏忽都可能要了你的命.', 'action': ''}\n"
     ]
    }
   ],
   "source": [
    "# ===========================================\n",
    "# 2. 检查真实数据格式\n",
    "# ===========================================\n",
    "\n",
    "print(f\"\\n=== 检查数据格式 ===\")\n",
    "\n",
    "if dialogue_data:\n",
    "    first_dialogue_block = dialogue_data[0]\n",
    "    print(f\"第一个对话块的键: {first_dialogue_block.keys()}\")\n",
    "    \n",
    "    if 'dialogue' in first_dialogue_block and first_dialogue_block['dialogue']:\n",
    "        first_dialogue_item = first_dialogue_block['dialogue'][0]\n",
    "        print(f\"第一个对话项的键: {first_dialogue_item.keys()}\")\n",
    "        \n",
    "        # 检查字段名\n",
    "        if 'dialogue' in first_dialogue_item:\n",
    "            print(\"✅ 数据使用 'dialogue' 字段\")\n",
    "            field_name = 'dialogue'\n",
    "        elif 'line' in first_dialogue_item:\n",
    "            print(\"⚠️ 数据使用 'line' 字段\")\n",
    "            field_name = 'line'\n",
    "        else:\n",
    "            print(\"❌ 未知字段名\")\n",
    "            field_name = None\n",
    "            \n",
    "        print(f\"样例对话: {first_dialogue_item}\")\n",
    "    else:\n",
    "        print(\"⚠️ 第一个对话块没有对话内容\")\n",
    "else:\n",
    "    print(\"❌ 没有对话数据\")"
   ]
  },
  {
   "cell_type": "code",
   "execution_count": 13,
   "id": "9c1a48e0",
   "metadata": {},
   "outputs": [
    {
     "name": "stdout",
     "output_type": "stream",
     "text": [
      "\n",
      "=== 测试 update_plot_from_dialogue 函数 ===\n",
      "测试章节: Chapter 1\n",
      "原始剧情长度: 290\n",
      "对话数量: 2\n",
      "yuanshi content: ```json\n",
      "{\n",
      "  \"updated_plot\": \"在昏暗的地下避难所深处,一间狭小的制作间里弥漫着淡淡的化学气味.祖母坐在工作台前,她那双布满皱纹但依然灵巧的手正在缝制一件鲜红色的防护服.这件防护服采用特殊的防辐射材料制成,表面闪烁着微弱的金属光泽.小红站在一旁,紧张地看着祖母的每一个动作.工作台上摆放着各种工具和材料：密封胶条、过滤装置、氧气循环器,还有一个装着淡蓝色维生药剂的小瓶子.避难所的通风系统发出低沉的嗡嗡声,墙上的应急灯投下摇曳的光影.祖母一边缝制,一边向小红详细讲解防护服的使用方法和注意事项,她的声音虽然苍老但充满了关爱和担忧.祖母特别强调密封条的重要性,反复叮嘱小红地面辐射的危险性,并严肃告诫她在返回避难所之前绝不能脱掉防护服.这件红色防护服不仅是小红前往地面的保护装备,更承载着祖母对孙女平安归来的深深期盼.\",\n",
      "  \"change_summary\": \"对话内容与原plot基本一致,祖母正在向小红详细讲解防护服使用注意事项.为了更好地反映对话中祖母强调密封条重要性和反复叮嘱安全事项的细节,在plot中增加了相应的描述,使情节更加具体和连贯.\",\n",
      "  \"changed\": true\n",
      "}\n",
      "```...\n",
      "✅ update_plot_from_dialogue 执行成功！\n",
      "返回结果类型: <class 'dict'>\n",
      "更新结果: True\n",
      "修改原因: 对话内容与原plot基本一致,祖母正在向小红详细讲解防护服使用注意事项.为了更好地反映对话中祖母强调密封条重要性和反复叮嘱安全事项的细节,在plot中增加了相应的描述,使情节更加具体和连贯.\n"
     ]
    }
   ],
   "source": [
    "\n",
    "\n",
    "\n",
    "# ===========================================\n",
    "# 3. 测试核心错误点\n",
    "# ===========================================\n",
    "\n",
    "print(f\"\\n=== 测试 update_plot_from_dialogue 函数 ===\")\n",
    "\n",
    "if dialogue_data and story_data and character_data:\n",
    "    try:\n",
    "        # 取第一章的数据进行测试\n",
    "        test_chapter = story_data[0]\n",
    "        test_dialogue = dialogue_data[0]['dialogue'] if dialogue_data[0].get('dialogue') else []\n",
    "        \n",
    "        print(f\"测试章节: {test_chapter.get('chapter_id', 'Unknown')}\")\n",
    "        print(f\"原始剧情长度: {len(test_chapter.get('plot', ''))}\")\n",
    "        print(f\"对话数量: {len(test_dialogue)}\")\n",
    "        \n",
    "        # 这里是之前出错的地方\n",
    "        result = update_plot_from_dialogue(\n",
    "            chapter_id=test_chapter.get('chapter_id', 'Chapter 1'),\n",
    "            original_plot=test_chapter.get('plot', ''),\n",
    "            dialogue=test_dialogue,\n",
    "            character_info=character_data\n",
    "        )\n",
    "        \n",
    "        print(\"✅ update_plot_from_dialogue 执行成功！\")\n",
    "        print(f\"返回结果类型: {type(result)}\")\n",
    "        if isinstance(result, dict):\n",
    "            print(f\"更新结果: {result.get('changed', 'unknown')}\")\n",
    "            print(f\"修改原因: {result.get('change_summary', 'none')}\")\n",
    "        else:\n",
    "            print(f\"返回结果: {result}\")\n",
    "            \n",
    "    except KeyError as e:\n",
    "        print(f\"❌ 仍然有 KeyError: {e}\")\n",
    "        print(\"这说明修复还没有完成\")\n",
    "        \n",
    "    except Exception as e:\n",
    "        print(f\"⚠️ 其他错误: {e}\")\n",
    "        import traceback\n",
    "        traceback.print_exc()\n",
    "        \n",
    "else:\n",
    "    print(\"❌ 缺少必要的测试数据\")\n"
   ]
  },
  {
   "cell_type": "code",
   "execution_count": 15,
   "id": "5a2c85f0",
   "metadata": {},
   "outputs": [
    {
     "name": "stdout",
     "output_type": "stream",
     "text": [
      "\n",
      "=== 测试字段兼容性 ===\n",
      "测试对话字段访问:\n",
      "  对话 1:\n",
      "    speaker: 祖母\n",
      "    'dialogue' 字段: ✅ = '小红,你看这里的密封条一定要贴紧,不能有一丝缝隙.地面上的辐射可不比这避难所里,一点疏忽都可能要了你...'\n",
      "    'line' 字段: ❌ = '...'\n",
      "    兼容获取: ✅ = '小红,你看这里的密封条一定要贴紧,不能有一丝缝隙.地面上的辐射可不比这避难所里,一点疏忽都可能要了你...'\n",
      "  对话 2:\n",
      "    speaker: 祖母\n",
      "    'dialogue' 字段: ✅ = '记住,穿上这件防护服后,千万不要脱掉,直到你回到这里....'\n",
      "    'line' 字段: ❌ = '...'\n",
      "    兼容获取: ✅ = '记住,穿上这件防护服后,千万不要脱掉,直到你回到这里....'\n",
      "\n",
      "=== 测试完成 ===\n",
      "如果看到 '✅ update_plot_from_dialogue 执行成功！'，说明修复生效了！\n"
     ]
    }
   ],
   "source": [
    "\n",
    "# ===========================================\n",
    "# 4. 测试对话字段兼容性\n",
    "# ===========================================\n",
    "\n",
    "print(f\"\\n=== 测试字段兼容性 ===\")\n",
    "\n",
    "if dialogue_data:\n",
    "    test_dialogue_list = dialogue_data[0]['dialogue'] if dialogue_data[0].get('dialogue') else []\n",
    "    \n",
    "    if test_dialogue_list:\n",
    "        print(\"测试对话字段访问:\")\n",
    "        for i, dlg in enumerate(test_dialogue_list[:3]):  # 只测试前3个\n",
    "            speaker = dlg.get('speaker', 'Unknown')\n",
    "            \n",
    "            # 测试两种字段名\n",
    "            dialogue_content = dlg.get('dialogue', '')\n",
    "            line_content = dlg.get('line', '')\n",
    "            \n",
    "            print(f\"  对话 {i+1}:\")\n",
    "            print(f\"    speaker: {speaker}\")\n",
    "            print(f\"    'dialogue' 字段: {'✅' if dialogue_content else '❌'} = '{dialogue_content[:50]}...'\")\n",
    "            print(f\"    'line' 字段: {'✅' if line_content else '❌'} = '{line_content[:50]}...'\")\n",
    "            \n",
    "            # 兼容性测试\n",
    "            content = dlg.get('dialogue', dlg.get('line', ''))\n",
    "            print(f\"    兼容获取: {'✅' if content else '❌'} = '{content[:50]}...'\")\n",
    "\n",
    "print(f\"\\n=== 测试完成 ===\")\n",
    "print(\"如果看到 '✅ update_plot_from_dialogue 执行成功！'，说明修复生效了！\")"
   ]
  },
  {
   "cell_type": "code",
   "execution_count": null,
   "id": "160e4db7",
   "metadata": {},
   "outputs": [],
   "source": []
  },
  {
   "cell_type": "code",
   "execution_count": null,
   "id": "8c311679",
   "metadata": {},
   "outputs": [],
   "source": []
  },
  {
   "cell_type": "code",
   "execution_count": null,
   "id": "808ef9f7",
   "metadata": {},
   "outputs": [],
   "source": []
  },
  {
   "cell_type": "code",
   "execution_count": null,
   "id": "8e8acaa3",
   "metadata": {},
   "outputs": [],
   "source": []
  },
  {
   "cell_type": "code",
   "execution_count": null,
   "id": "f4a20dbb",
   "metadata": {},
   "outputs": [],
   "source": []
  },
  {
   "cell_type": "code",
   "execution_count": 1,
   "id": "68cc63f0",
   "metadata": {},
   "outputs": [
    {
     "name": "stdout",
     "output_type": "stream",
     "text": [
      "=== 测试 convert_json 修复 ===\n",
      "测试对话：\n",
      "  祖母: 莉娜,我的孩子...这个盒子里装着的,不仅仅是我毕生的心血,更是我们家族的使命....\n",
      "  祖母: 你要好好珍惜它,记住,力量不仅来自于科技,更来自于你内心的勇气和智慧....\n",
      "yuanshi content: ```json\n",
      "{\n",
      "  \"祖母\": [\"传承\", \"慈爱\", \"庄重\", \"智慧\"]\n",
      "}\n",
      "```...\n",
      "尝试解析JSON: {\n",
      "  \"祖母\": [\"传承\", \"慈爱\", \"庄重\", \"智慧\"]\n",
      "}...\n",
      "✅ JSON解析成功: <class 'dict'>\n",
      "\n",
      "=== 结果分析 ===\n",
      "返回结果: {'祖母': ['传承', '慈爱', '庄重', '智慧']}\n",
      "结果类型: <class 'dict'>\n",
      "是否为空: 否\n",
      "🎉 完全修复成功！\n",
      "✅ extract_behavior_llm 可以正常工作\n",
      "✅ convert_json 可以正确解析\n",
      "✅ 返回了正确的角色行为数据\n",
      "  祖母: ['传承', '慈爱', '庄重', '智慧']\n",
      "\n",
      "🎯 这就是正确的 dialogue_trace.json 应该包含的数据！\n",
      "\n",
      "=== 下一步 ===\n",
      "✅ 所有问题已修复，现在可以重新运行 main pipeline！\n",
      "✅ 系统将正确生成 dialogue_trace.json 文件\n"
     ]
    }
   ],
   "source": [
    "# 测试 convert_json 修复效果\n",
    "\n",
    "import sys\n",
    "import importlib\n",
    "\n",
    "# 重新加载模块\n",
    "if 'src.utils.utils' in sys.modules:\n",
    "    importlib.reload(sys.modules['src.utils.utils'])\n",
    "\n",
    "sys.path.append('/Users/haha/Story')\n",
    "\n",
    "from src.utils.utils import extract_behavior_llm, load_json\n",
    "\n",
    "print(\"=== 测试 convert_json 修复 ===\")\n",
    "\n",
    "# 使用真实数据测试\n",
    "version = \"小红帽_科幻_linear_T0.7_s42\"\n",
    "dialogue_file = f\"/Users/haha/Story/data/output/{version}/dialogue_marks.json\"\n",
    "dialogue_data = load_json(dialogue_file)\n",
    "\n",
    "test_dialogue = dialogue_data[0]['dialogue'][:2]\n",
    "\n",
    "print(f\"测试对话：\")\n",
    "for dlg in test_dialogue:\n",
    "    print(f\"  {dlg['speaker']}: {dlg['dialogue'][:50]}...\")\n",
    "\n",
    "try:\n",
    "    result = extract_behavior_llm(test_dialogue, confirm=False)\n",
    "    \n",
    "    print(f\"\\n=== 结果分析 ===\")\n",
    "    print(f\"返回结果: {result}\")\n",
    "    print(f\"结果类型: {type(result)}\")\n",
    "    print(f\"是否为空: {'是' if not result else '否'}\")\n",
    "    \n",
    "    if result:  # 如果结果不为空\n",
    "        print(\"🎉 完全修复成功！\")\n",
    "        print(\"✅ extract_behavior_llm 可以正常工作\")\n",
    "        print(\"✅ convert_json 可以正确解析\")\n",
    "        print(\"✅ 返回了正确的角色行为数据\")\n",
    "        \n",
    "        # 显示具体内容\n",
    "        for character, behaviors in result.items():\n",
    "            print(f\"  {character}: {behaviors}\")\n",
    "            \n",
    "        print(f\"\\n🎯 这就是正确的 dialogue_trace.json 应该包含的数据！\")\n",
    "        \n",
    "    else:  # 如果结果为空\n",
    "        print(\"⚠️ 结果为空，可能还有其他问题\")\n",
    "        \n",
    "except Exception as e:\n",
    "    print(f\"❌ 仍然有错误: {e}\")\n",
    "    import traceback\n",
    "    traceback.print_exc()\n",
    "\n",
    "print(f\"\\n=== 下一步 ===\")\n",
    "if 'result' in locals() and result:\n",
    "    print(\"✅ 所有问题已修复，现在可以重新运行 main pipeline！\")\n",
    "    print(\"✅ 系统将正确生成 dialogue_trace.json 文件\")\n",
    "else:\n",
    "    print(\"⚠️ 需要继续调试\")"
   ]
  },
  {
   "cell_type": "code",
   "execution_count": null,
   "id": "3a842f8b",
   "metadata": {},
   "outputs": [],
   "source": []
  }
 ],
 "metadata": {
  "kernelspec": {
   "display_name": "Python 3",
   "language": "python",
   "name": "python3"
  },
  "language_info": {
   "codemirror_mode": {
    "name": "ipython",
    "version": 3
   },
   "file_extension": ".py",
   "mimetype": "text/x-python",
   "name": "python",
   "nbconvert_exporter": "python",
   "pygments_lexer": "ipython3",
   "version": "3.11.4"
  }
 },
 "nbformat": 4,
 "nbformat_minor": 5
}
