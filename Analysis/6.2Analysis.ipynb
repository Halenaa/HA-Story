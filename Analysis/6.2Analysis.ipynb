{
 "cells": [
  {
   "cell_type": "code",
   "execution_count": 5,
   "id": "53c2c2d5",
   "metadata": {},
   "outputs": [
    {
     "ename": "NameError",
     "evalue": "name 'metrics' is not defined",
     "output_type": "error",
     "traceback": [
      "\u001b[0;31m---------------------------------------------------------------------------\u001b[0m",
      "\u001b[0;31mNameError\u001b[0m                                 Traceback (most recent call last)",
      "Cell \u001b[0;32mIn[5], line 46\u001b[0m\n\u001b[1;32m     44\u001b[0m \u001b[38;5;66;03m# 重绘 genre 下的箱线图\u001b[39;00m\n\u001b[1;32m     45\u001b[0m generated_retry \u001b[38;5;241m=\u001b[39m []\n\u001b[0;32m---> 46\u001b[0m \u001b[38;5;28;01mfor\u001b[39;00m m \u001b[38;5;129;01min\u001b[39;00m \u001b[43mmetrics\u001b[49m:\n\u001b[1;32m     47\u001b[0m     \u001b[38;5;28;01mif\u001b[39;00m genre_col \u001b[38;5;129;01mis\u001b[39;00m \u001b[38;5;129;01mnot\u001b[39;00m \u001b[38;5;28;01mNone\u001b[39;00m:\n\u001b[1;32m     48\u001b[0m         \u001b[38;5;28;01mfor\u001b[39;00m g_val, sub \u001b[38;5;129;01min\u001b[39;00m df\u001b[38;5;241m.\u001b[39mgroupby(genre_col):\n",
      "\u001b[0;31mNameError\u001b[0m: name 'metrics' is not defined"
     ]
    }
   ],
   "source": [
    "# 进一步修复：将布尔型/非数值型指标在绘图前强制转为数值（True/False -> 1/0；可转换字符串->float），不可转换则丢弃。\n",
    "\n",
    "import numpy as np\n",
    "import matplotlib.pyplot as plt\n",
    "import pandas as pd\n",
    "from pathlib import Path\n",
    "\n",
    "def _coerce_numeric(arr):\n",
    "    # 将布尔转为 float\n",
    "    if arr.dtype == bool:\n",
    "        return arr.astype(float)\n",
    "    # 尝试数值化\n",
    "    try:\n",
    "        return pd.to_numeric(arr, errors=\"coerce\").astype(float)\n",
    "    except Exception:\n",
    "        return pd.to_numeric(pd.Series(arr), errors=\"coerce\").astype(float).values\n",
    "\n",
    "def plot_structure_box_safe(d: pd.DataFrame, metric: str, add_title_suffix: str = \"\") -> str:\n",
    "    data = []\n",
    "    labels = []\n",
    "    for s_val, sub in d.groupby(structure_col):\n",
    "        vals = sub[metric].dropna()\n",
    "        vals = _coerce_numeric(vals)\n",
    "        vals = pd.Series(vals).dropna().values\n",
    "        if len(vals) > 0:\n",
    "            data.append(vals)\n",
    "            labels.append(str(s_val))\n",
    "    if len(data) == 0:\n",
    "        return \"\"\n",
    "    plt.figure()\n",
    "    plt.boxplot(data, labels=labels, showmeans=True)\n",
    "    plt.xlabel(structure_col)\n",
    "    plt.ylabel(metric)\n",
    "    title = f\"{metric} distribution by {structure_col}\"\n",
    "    if add_title_suffix:\n",
    "        title += f\" — {add_title_suffix}\"\n",
    "    plt.title(title)\n",
    "    out_path = OUT_DIR_FIG / f\"{metric}__box_by_{structure_col}{'__'+add_title_suffix if add_title_suffix else ''}.png\"\n",
    "    plt.tight_layout()\n",
    "    plt.savefig(out_path, dpi=200)\n",
    "    plt.close()\n",
    "    return str(out_path)\n",
    "\n",
    "# 重绘 genre 下的箱线图\n",
    "generated_retry = []\n",
    "for m in metrics:\n",
    "    if genre_col is not None:\n",
    "        for g_val, sub in df.groupby(genre_col):\n",
    "            suffix = f\"{genre_col}={g_val}\"\n",
    "            p = plot_structure_box_safe(sub, m, add_title_suffix=suffix)\n",
    "            if p:\n",
    "                generated_retry.append(p)\n",
    "\n",
    "print(\"已完成修复并重绘，新增箱线图：\", len(generated_retry), \"张。\")\n",
    "print(\"图像输出目录：\", OUT_DIR_FIG)\n"
   ]
  },
  {
   "cell_type": "code",
   "execution_count": null,
   "id": "919ee46e",
   "metadata": {},
   "outputs": [
    {
     "ename": "NameError",
     "evalue": "name 'split_and_cast' is not defined",
     "output_type": "error",
     "traceback": [
      "\u001b[0;31m---------------------------------------------------------------------------\u001b[0m",
      "\u001b[0;31mNameError\u001b[0m                                 Traceback (most recent call last)",
      "Cell \u001b[0;32mIn[4], line 4\u001b[0m\n\u001b[1;32m      1\u001b[0m \u001b[38;5;66;03m# Assume df is loaded and cleaned; filter system-only for trend,\u001b[39;00m\n\u001b[1;32m      2\u001b[0m \u001b[38;5;66;03m# but baseline_df is used to compute the reference.\u001b[39;00m\n\u001b[1;32m      3\u001b[0m metrics_for_cast \u001b[38;5;241m=\u001b[39m [\u001b[38;5;124m\"\u001b[39m\u001b[38;5;124mtemperature\u001b[39m\u001b[38;5;124m\"\u001b[39m, \u001b[38;5;124m\"\u001b[39m\u001b[38;5;124mdistinct_avg\u001b[39m\u001b[38;5;124m\"\u001b[39m, \u001b[38;5;124m\"\u001b[39m\u001b[38;5;124mdiversity_group_score\u001b[39m\u001b[38;5;124m\"\u001b[39m, \u001b[38;5;124m\"\u001b[39m\u001b[38;5;124mself_bleu_group\u001b[39m\u001b[38;5;124m\"\u001b[39m]\n\u001b[0;32m----> 4\u001b[0m system_df, baseline_df \u001b[38;5;241m=\u001b[39m \u001b[43msplit_and_cast\u001b[49m(df, numeric_cols\u001b[38;5;241m=\u001b[39mmetrics_for_cast)\n\u001b[1;32m      6\u001b[0m sns\u001b[38;5;241m.\u001b[39mset_theme(style\u001b[38;5;241m=\u001b[39m\u001b[38;5;124m\"\u001b[39m\u001b[38;5;124mwhitegrid\u001b[39m\u001b[38;5;124m\"\u001b[39m); sns\u001b[38;5;241m.\u001b[39mset_context(\u001b[38;5;124m\"\u001b[39m\u001b[38;5;124mpaper\u001b[39m\u001b[38;5;124m\"\u001b[39m, font_scale\u001b[38;5;241m=\u001b[39m\u001b[38;5;241m1.2\u001b[39m)\n\u001b[1;32m      7\u001b[0m palette \u001b[38;5;241m=\u001b[39m {\u001b[38;5;124m\"\u001b[39m\u001b[38;5;124mlinear\u001b[39m\u001b[38;5;124m\"\u001b[39m: \u001b[38;5;124m\"\u001b[39m\u001b[38;5;124m#4477AA\u001b[39m\u001b[38;5;124m\"\u001b[39m, \u001b[38;5;124m\"\u001b[39m\u001b[38;5;124mnonlinear\u001b[39m\u001b[38;5;124m\"\u001b[39m: \u001b[38;5;124m\"\u001b[39m\u001b[38;5;124m#CC6677\u001b[39m\u001b[38;5;124m\"\u001b[39m}\n",
      "\u001b[0;31mNameError\u001b[0m: name 'split_and_cast' is not defined"
     ]
    }
   ],
   "source": []
  },
  {
   "cell_type": "code",
   "execution_count": null,
   "id": "f990097a",
   "metadata": {},
   "outputs": [],
   "source": []
  },
  {
   "cell_type": "code",
   "execution_count": null,
   "id": "d8cc39d2",
   "metadata": {},
   "outputs": [],
   "source": []
  },
  {
   "cell_type": "code",
   "execution_count": null,
   "id": "31de7f92",
   "metadata": {},
   "outputs": [],
   "source": []
  },
  {
   "cell_type": "code",
   "execution_count": null,
   "id": "3ddc6cb6",
   "metadata": {},
   "outputs": [],
   "source": []
  },
  {
   "cell_type": "code",
   "execution_count": null,
   "id": "a22cc10c",
   "metadata": {},
   "outputs": [],
   "source": []
  }
 ],
 "metadata": {
  "kernelspec": {
   "display_name": "Python 3",
   "language": "python",
   "name": "python3"
  },
  "language_info": {
   "codemirror_mode": {
    "name": "ipython",
    "version": 3
   },
   "file_extension": ".py",
   "mimetype": "text/x-python",
   "name": "python",
   "nbconvert_exporter": "python",
   "pygments_lexer": "ipython3",
   "version": "3.11.4"
  }
 },
 "nbformat": 4,
 "nbformat_minor": 5
}
